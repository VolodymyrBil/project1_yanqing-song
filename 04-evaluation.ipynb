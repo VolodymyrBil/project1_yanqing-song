{
 "cells": [
  {
   "cell_type": "markdown",
   "id": "c16cc004",
   "metadata": {},
   "source": [
    "## Homework\n",
    "\n",
    "> Note: sometimes your answer doesn't match one of \n",
    "> the options exactly. That's fine. \n",
    "> Select the option that's closest to your solution.\n",
    "\n",
    "\n",
    "In this homework, we will use the Bank Marketing dataset. Download it from [here](https://archive.ics.uci.edu/static/public/222/bank+marketing.zip).\n",
    "\n",
    "You can do it with `wget`:\n",
    "\n",
    "We need `bank-full.csv`.\n",
    "\n",
    "In this dataset the target variable is `y` variable - has the client subscribed a term deposit or not."
   ]
  },
  {
   "cell_type": "code",
   "execution_count": 1,
   "id": "55c33fa5",
   "metadata": {},
   "outputs": [],
   "source": [
    "import pandas as pd\n",
    "import numpy as np\n",
    "import matplotlib.pyplot as plt\n",
    "from sklearn.model_selection import train_test_split, KFold\n",
    "from sklearn.metrics import roc_auc_score, precision_score, recall_score, f1_score\n",
    "from sklearn.feature_extraction import DictVectorizer\n",
    "from sklearn.linear_model import LogisticRegression"
   ]
  },
  {
   "cell_type": "code",
   "execution_count": 2,
   "id": "732a431e",
   "metadata": {},
   "outputs": [
    {
     "name": "stdout",
     "output_type": "stream",
     "text": [
      "--2024-10-18 12:13:33--  https://archive.ics.uci.edu/static/public/222/bank+marketing.zip\n",
      "Resolving archive.ics.uci.edu (archive.ics.uci.edu)... 128.195.10.252\n",
      "Connecting to archive.ics.uci.edu (archive.ics.uci.edu)|128.195.10.252|:443... connected.\n",
      "HTTP request sent, awaiting response... 200 OK\n",
      "Length: unspecified\n",
      "Saving to: ‘bank+marketing.zip’\n",
      "\n",
      "bank+marketing.zip      [    <=>             ] 999.85K  1.05MB/s    in 0.9s    \n",
      "\n",
      "2024-10-18 12:13:35 (1.05 MB/s) - ‘bank+marketing.zip’ saved [1023843]\n",
      "\n",
      "Archive:  bank+marketing.zip\n",
      " extracting: bank.zip                \n",
      " extracting: bank-additional.zip     \n",
      "Archive:  bank.zip\n",
      "  inflating: bank-full.csv           \n",
      "  inflating: bank-names.txt          \n",
      "  inflating: bank.csv                \n"
     ]
    }
   ],
   "source": [
    "!wget https://archive.ics.uci.edu/static/public/222/bank+marketing.zip \\\n",
    "    && unzip -o bank+marketing.zip && unzip -o bank.zip && rm *.zip\n"
   ]
  },
  {
   "cell_type": "markdown",
   "id": "18d51d99",
   "metadata": {},
   "source": [
    "### Dataset preparation\n",
    "\n",
    "For the rest of the homework, you'll need to use only these columns:\n",
    "\n",
    "* `'age'`,\n",
    "* `'job'`,\n",
    "* `'marital'`,\n",
    "* `'education'`,\n",
    "* `'balance'`,\n",
    "* `'housing'`,\n",
    "* `'contact'`,\n",
    "* `'day'`,\n",
    "* `'month'`,\n",
    "* `'duration'`,\n",
    "* `'campaign'`,\n",
    "* `'pdays'`,\n",
    "* `'previous'`,\n",
    "* `'poutcome'`,\n",
    "* `'y'`\n",
    "\n",
    "\n",
    "\n",
    "Split the data into 3 parts: train/validation/test with 60%/20%/20% distribution. Use `train_test_split` function for that with `random_state=1`"
   ]
  },
  {
   "cell_type": "code",
   "execution_count": 3,
   "id": "a15f1d31",
   "metadata": {},
   "outputs": [],
   "source": [
    "df = pd.read_csv('bank-full.csv', sep=';')\n",
    "X = df.drop(columns=['default', 'loan','y'])\n",
    "y = (df['y']=='yes').astype(int)\n",
    "X_train_val, X_test, y_train_val, y_test = train_test_split(X, y, test_size=0.2, random_state=1)\n",
    "X_train, X_val, y_train, y_val = train_test_split(X_train_val, y_train_val, test_size=0.25, random_state=1)"
   ]
  },
  {
   "cell_type": "markdown",
   "id": "79e0d21c",
   "metadata": {},
   "source": [
    "### Question 1: ROC AUC feature importance\n",
    "\n",
    "ROC AUC could also be used to evaluate feature importance of numerical variables. \n",
    "\n",
    "Let's do that\n",
    "\n",
    "* For each numerical variable, use it as score and compute AUC with the `y` variable\n",
    "* Use the training dataset for that\n",
    "\n",
    "\n",
    "If your AUC is < 0.5, invert this variable by putting \"-\" in front\n",
    "\n",
    "(e.g. `-df_train['engine_hp']`)\n",
    "\n",
    "AUC can go below 0.5 if the variable is negatively correlated with the target variable. You can change the direction of the correlation by negating this variable - then negative correlation becomes positive.\n",
    "\n",
    "Which numerical variable (among the following 4) has the highest AUC?\n",
    "\n",
    "- `balance`\n",
    "- `day`\n",
    "- `duration`\n",
    "- `previous`"
   ]
  },
  {
   "cell_type": "code",
   "execution_count": 4,
   "id": "9a4b3a1a",
   "metadata": {},
   "outputs": [
    {
     "data": {
      "text/plain": [
       "age         0.512186\n",
       "day         0.525958\n",
       "campaign    0.571454\n",
       "balance     0.588831\n",
       "pdays       0.590128\n",
       "previous    0.598565\n",
       "duration    0.814700\n",
       "dtype: float64"
      ]
     },
     "execution_count": 4,
     "metadata": {},
     "output_type": "execute_result"
    }
   ],
   "source": [
    "X_train_num = X_train.select_dtypes('number')\n",
    "X_train_num.apply(lambda x:roc_auc_score(y_train, x) if roc_auc_score(y_train, x)>0.5 else roc_auc_score(y_train, -x)).sort_values()\n"
   ]
  },
  {
   "cell_type": "code",
   "execution_count": 5,
   "id": "f4df7506",
   "metadata": {},
   "outputs": [
    {
     "data": {
      "text/html": [
       "<div>\n",
       "<style scoped>\n",
       "    .dataframe tbody tr th:only-of-type {\n",
       "        vertical-align: middle;\n",
       "    }\n",
       "\n",
       "    .dataframe tbody tr th {\n",
       "        vertical-align: top;\n",
       "    }\n",
       "\n",
       "    .dataframe thead th {\n",
       "        text-align: right;\n",
       "    }\n",
       "</style>\n",
       "<table border=\"1\" class=\"dataframe\">\n",
       "  <thead>\n",
       "    <tr style=\"text-align: right;\">\n",
       "      <th></th>\n",
       "      <th>pearson_r</th>\n",
       "      <th>auc</th>\n",
       "    </tr>\n",
       "  </thead>\n",
       "  <tbody>\n",
       "    <tr>\n",
       "      <th>campaign</th>\n",
       "      <td>-0.069854</td>\n",
       "      <td>0.428546</td>\n",
       "    </tr>\n",
       "    <tr>\n",
       "      <th>day</th>\n",
       "      <td>-0.028151</td>\n",
       "      <td>0.474042</td>\n",
       "    </tr>\n",
       "    <tr>\n",
       "      <th>age</th>\n",
       "      <td>0.016893</td>\n",
       "      <td>0.487814</td>\n",
       "    </tr>\n",
       "    <tr>\n",
       "      <th>balance</th>\n",
       "      <td>0.055903</td>\n",
       "      <td>0.588831</td>\n",
       "    </tr>\n",
       "    <tr>\n",
       "      <th>pdays</th>\n",
       "      <td>0.100222</td>\n",
       "      <td>0.590128</td>\n",
       "    </tr>\n",
       "    <tr>\n",
       "      <th>previous</th>\n",
       "      <td>0.102520</td>\n",
       "      <td>0.598565</td>\n",
       "    </tr>\n",
       "    <tr>\n",
       "      <th>duration</th>\n",
       "      <td>0.405950</td>\n",
       "      <td>0.814700</td>\n",
       "    </tr>\n",
       "  </tbody>\n",
       "</table>\n",
       "</div>"
      ],
      "text/plain": [
       "          pearson_r       auc\n",
       "campaign  -0.069854  0.428546\n",
       "day       -0.028151  0.474042\n",
       "age        0.016893  0.487814\n",
       "balance    0.055903  0.588831\n",
       "pdays      0.100222  0.590128\n",
       "previous   0.102520  0.598565\n",
       "duration   0.405950  0.814700"
      ]
     },
     "execution_count": 5,
     "metadata": {},
     "output_type": "execute_result"
    }
   ],
   "source": [
    "# pearsonr and auc give similar information on feature importance in this case\n",
    "corr_auc = pd.concat((X_train_num.corrwith(y_train), \\\n",
    "            X_train_num.apply(lambda x:roc_auc_score(y_train, x))), axis=1)\n",
    "corr_auc.rename(columns={0:'pearson_r',1:'auc'}).sort_values('auc')"
   ]
  },
  {
   "cell_type": "markdown",
   "id": "72f116df",
   "metadata": {},
   "source": [
    "### Question 2: Training the model\n",
    "\n",
    "Apply one-hot-encoding using `DictVectorizer` and train the logistic regression with these parameters:\n",
    "\n",
    "```python\n",
    "LogisticRegression(solver='liblinear', C=1.0, max_iter=1000)\n",
    "```\n",
    "\n",
    "What's the AUC of this model on the validation dataset? (round to 3 digits)\n",
    "\n",
    "- 0.69\n",
    "- 0.79\n",
    "- 0.89\n",
    "- 0.99"
   ]
  },
  {
   "cell_type": "code",
   "execution_count": 6,
   "id": "ca6b67e1",
   "metadata": {},
   "outputs": [
    {
     "data": {
      "text/plain": [
       "0.9000611291793008"
      ]
     },
     "execution_count": 6,
     "metadata": {},
     "output_type": "execute_result"
    }
   ],
   "source": [
    "def logistic_reg(X_train, X_val, y_train, y_val, C=1.0):\n",
    "    dv = DictVectorizer()\n",
    "    X_train = dv.fit_transform(X_train.to_dict(orient='records'))\n",
    "    X_val = dv.transform(X_val.to_dict(orient='records'))\n",
    "\n",
    "    model = LogisticRegression(solver='liblinear', C=C, max_iter=1000)\n",
    "    model.fit(X_train, y_train)\n",
    "    y_val_score = model.predict_proba(X_val)[:,1]\n",
    "    auc = roc_auc_score(y_val, y_val_score)\n",
    "    return auc, y_val_score\n",
    "\n",
    "\n",
    "auc, y_val_score = logistic_reg(X_train, X_val, y_train, y_val)\n",
    "auc"
   ]
  },
  {
   "cell_type": "markdown",
   "id": "d28fcb9e",
   "metadata": {},
   "source": [
    "### Question 3: Precision and Recall\n",
    "\n",
    "Now let's compute precision and recall for our model.\n",
    "\n",
    "* Evaluate the model on all thresholds from 0.0 to 1.0 with step 0.01\n",
    "* For each threshold, compute precision and recall\n",
    "* Plot them\n",
    "\n",
    "At which threshold precision and recall curves intersect?\n",
    "\n",
    "* 0.265\n",
    "* 0.465\n",
    "* 0.665\n",
    "* 0.865"
   ]
  },
  {
   "cell_type": "markdown",
   "id": "95033419",
   "metadata": {},
   "source": [
    "### Question 4: F1 score\n",
    "\n",
    "Precision and recall are conflicting - when one grows, the other goes down. That's why they are often combined into the F1 score - a metrics that takes into account both\n",
    "\n",
    "This is the formula for computing F1:\n",
    "\n",
    "$$F_1 = 2 \\cdot \\cfrac{P \\cdot R}{P + R}$$\n",
    "\n",
    "Where $P$ is precision and $R$ is recall.\n",
    "\n",
    "Let's compute F1 for all thresholds from 0.0 to 1.0 with increment 0.01\n",
    "\n",
    "At which threshold F1 is maximal?\n",
    "\n",
    "- 0.02\n",
    "- 0.22\n",
    "- 0.42\n",
    "- 0.62"
   ]
  },
  {
   "cell_type": "code",
   "execution_count": 7,
   "id": "925502bd",
   "metadata": {},
   "outputs": [
    {
     "data": {
      "text/html": [
       "<div>\n",
       "<style scoped>\n",
       "    .dataframe tbody tr th:only-of-type {\n",
       "        vertical-align: middle;\n",
       "    }\n",
       "\n",
       "    .dataframe tbody tr th {\n",
       "        vertical-align: top;\n",
       "    }\n",
       "\n",
       "    .dataframe thead th {\n",
       "        text-align: right;\n",
       "    }\n",
       "</style>\n",
       "<table border=\"1\" class=\"dataframe\">\n",
       "  <thead>\n",
       "    <tr style=\"text-align: right;\">\n",
       "      <th></th>\n",
       "      <th>threshold</th>\n",
       "      <th>precision</th>\n",
       "      <th>recall</th>\n",
       "      <th>f1_score</th>\n",
       "    </tr>\n",
       "  </thead>\n",
       "  <tbody>\n",
       "    <tr>\n",
       "      <th>26</th>\n",
       "      <td>0.26</td>\n",
       "      <td>0.556250</td>\n",
       "      <td>0.567395</td>\n",
       "      <td>0.561767</td>\n",
       "    </tr>\n",
       "    <tr>\n",
       "      <th>27</th>\n",
       "      <td>0.27</td>\n",
       "      <td>0.563771</td>\n",
       "      <td>0.555556</td>\n",
       "      <td>0.559633</td>\n",
       "    </tr>\n",
       "  </tbody>\n",
       "</table>\n",
       "</div>"
      ],
      "text/plain": [
       "    threshold  precision    recall  f1_score\n",
       "26       0.26   0.556250  0.567395  0.561767\n",
       "27       0.27   0.563771  0.555556  0.559633"
      ]
     },
     "execution_count": 7,
     "metadata": {},
     "output_type": "execute_result"
    }
   ],
   "source": [
    "prf1 = []\n",
    "for t in np.linspace(0,1,101):\n",
    "    p = precision_score(y_val, y_val_score>=t, zero_division=np.nan)\n",
    "    r = recall_score(y_val, y_val_score>=t)\n",
    "    f1 = f1_score(y_val, y_val_score>=t)\n",
    "    prf1.append((t,p,r,f1))\n",
    "\n",
    "df_prf1 = pd.DataFrame(prf1, columns=['threshold','precision','recall','f1_score'])\n",
    "pr_equal = df_prf1.query('precision.round(1)==recall.round(1)')\n",
    "pr_equal"
   ]
  },
  {
   "cell_type": "code",
   "execution_count": 8,
   "id": "ead4ddd6",
   "metadata": {},
   "outputs": [
    {
     "data": {
      "image/png": "[encoded data removed]",
      "text/plain": [
       "<Figure size 1000x800 with 1 Axes>"
      ]
     },
     "metadata": {},
     "output_type": "display_data"
    }
   ],
   "source": [
    "df_prf1.plot(x='threshold',y=['precision','recall','f1_score'], style=['-','-','--'], figsize=(10,8))\n",
    "t_inter, prec = pr_equal[['threshold','precision']].mean().round(3)\n",
    "t_f1, f1 = df_prf1.nlargest(1,'f1_score')[['threshold','f1_score']].round(3).squeeze()\n",
    "plt.plot((t_inter,t_f1), (prec,f1), 'rx')\n",
    "plt.annotate(f'pr_intersect {t_inter,prec}', (t_inter,prec), (t_inter-0.1,prec+0.2), arrowprops={'arrowstyle':'->'})\n",
    "plt.annotate(f'max_f1 {t_f1,f1}', (t_f1,f1), (t_f1-0.1,f1-0.2), arrowprops={'arrowstyle':'->'})\n",
    "plt.show()\n"
   ]
  },
  {
   "cell_type": "markdown",
   "id": "86d8e881",
   "metadata": {},
   "source": [
    "### Question 5: 5-Fold CV\n",
    "\n",
    "\n",
    "Use the `KFold` class from Scikit-Learn to evaluate our model on 5 different folds:\n",
    "\n",
    "```\n",
    "KFold(n_splits=5, shuffle=True, random_state=1)\n",
    "```\n",
    "\n",
    "* Iterate over different folds of `df_full_train`\n",
    "* Split the data into train and validation\n",
    "* Train the model on train with these parameters: `LogisticRegression(solver='liblinear', C=1.0, max_iter=1000)`\n",
    "* Use AUC to evaluate the model on validation\n",
    "\n",
    "How large is standard deviation of the scores across different folds?\n",
    "\n",
    "- 0.0001\n",
    "- 0.006\n",
    "- 0.06\n",
    "- 0.26"
   ]
  },
  {
   "cell_type": "code",
   "execution_count": 9,
   "id": "8edaf8d2",
   "metadata": {},
   "outputs": [
    {
     "data": {
      "text/plain": [
       "([0.8993313721729044,\n",
       "  0.8993379202316825,\n",
       "  0.9112393179832716,\n",
       "  0.9081164890704471,\n",
       "  0.9119943189373679],\n",
       " 0.9060038836791346,\n",
       " 0.005598493850295184)"
      ]
     },
     "execution_count": 9,
     "metadata": {},
     "output_type": "execute_result"
    }
   ],
   "source": [
    "def kfold_logistic_reg(X_train_val, y_train_val, n_splits=5, C=1.0):\n",
    "    aucs = []\n",
    "    kf = KFold(n_splits, shuffle=True, random_state=1)\n",
    "    for train_idx, val_idx in kf.split(X_train_val):\n",
    "        X_train = X_train_val.iloc[train_idx]\n",
    "        X_val = X_train_val.iloc[val_idx]\n",
    "        y_train = y_train_val.iloc[train_idx]\n",
    "        y_val = y_train_val.iloc[val_idx]\n",
    "\n",
    "        auc, _ = logistic_reg(X_train, X_val, y_train, y_val, C=C)    \n",
    "        aucs.append(auc)         \n",
    "    return aucs\n",
    "\n",
    "\n",
    "aucs = kfold_logistic_reg(X_train_val, y_train_val)\n",
    "aucs, np.mean(aucs), np.std(aucs)"
   ]
  },
  {
   "cell_type": "markdown",
   "id": "3ac58d1c",
   "metadata": {},
   "source": [
    "### Question 6: Hyperparameter Tuning\n",
    "\n",
    "Now let's use 5-Fold cross-validation to find the best parameter `C`\n",
    "\n",
    "* Iterate over the following `C` values: `[0.000001, 0.001, 1]`\n",
    "* Initialize `KFold` with the same parameters as previously\n",
    "* Use these parameters for the model: `LogisticRegression(solver='liblinear', C=C, max_iter=1000)`\n",
    "* Compute the mean score as well as the std (round the mean and std to 3 decimal digits)\n",
    "\n",
    "Which `C` leads to the best mean score?\n",
    "\n",
    "- 0.000001\n",
    "- 0.001\n",
    "- 1\n",
    "\n",
    "If you have ties, select the score with the lowest std. If you still have ties, select the smallest `C`."
   ]
  },
  {
   "cell_type": "code",
   "execution_count": 10,
   "id": "3c47c541",
   "metadata": {},
   "outputs": [
    {
     "data": {
      "text/html": [
       "<div>\n",
       "<style scoped>\n",
       "    .dataframe tbody tr th:only-of-type {\n",
       "        vertical-align: middle;\n",
       "    }\n",
       "\n",
       "    .dataframe tbody tr th {\n",
       "        vertical-align: top;\n",
       "    }\n",
       "\n",
       "    .dataframe thead th {\n",
       "        text-align: right;\n",
       "    }\n",
       "</style>\n",
       "<table border=\"1\" class=\"dataframe\">\n",
       "  <thead>\n",
       "    <tr style=\"text-align: right;\">\n",
       "      <th></th>\n",
       "      <th>C</th>\n",
       "      <th>auc</th>\n",
       "      <th>auc_mean</th>\n",
       "      <th>auc_std</th>\n",
       "    </tr>\n",
       "  </thead>\n",
       "  <tbody>\n",
       "    <tr>\n",
       "      <th>0</th>\n",
       "      <td>0.000001</td>\n",
       "      <td>[0.6847, 0.7001, 0.712, 0.7087, 0.7016]</td>\n",
       "      <td>0.701445</td>\n",
       "      <td>0.009444</td>\n",
       "    </tr>\n",
       "    <tr>\n",
       "      <th>1</th>\n",
       "      <td>0.001000</td>\n",
       "      <td>[0.8483, 0.8597, 0.8642, 0.8692, 0.8634]</td>\n",
       "      <td>0.860980</td>\n",
       "      <td>0.007012</td>\n",
       "    </tr>\n",
       "    <tr>\n",
       "      <th>2</th>\n",
       "      <td>1.000000</td>\n",
       "      <td>[0.8993, 0.8993, 0.9112, 0.9081, 0.912]</td>\n",
       "      <td>0.906004</td>\n",
       "      <td>0.005598</td>\n",
       "    </tr>\n",
       "  </tbody>\n",
       "</table>\n",
       "</div>"
      ],
      "text/plain": [
       "          C                                       auc  auc_mean   auc_std\n",
       "0  0.000001   [0.6847, 0.7001, 0.712, 0.7087, 0.7016]  0.701445  0.009444\n",
       "1  0.001000  [0.8483, 0.8597, 0.8642, 0.8692, 0.8634]  0.860980  0.007012\n",
       "2  1.000000   [0.8993, 0.8993, 0.9112, 0.9081, 0.912]  0.906004  0.005598"
      ]
     },
     "execution_count": 10,
     "metadata": {},
     "output_type": "execute_result"
    }
   ],
   "source": [
    "auc_stat = []\n",
    "for C in [0.000001, 0.001, 1]:\n",
    "    aucs = kfold_logistic_reg(X_train_val, y_train_val, C=C)\n",
    "    auc_stat.append((C, np.round(aucs,4), np.mean(aucs), np.std(aucs)))\n",
    "\n",
    "pd.DataFrame(auc_stat,columns=['C','auc','auc_mean','auc_std'])"
   ]
  },
  {
   "cell_type": "code",
   "execution_count": null,
   "id": "867b1b92",
   "metadata": {},
   "outputs": [],
   "source": []
  }
 ],
 "metadata": {
  "kernelspec": {
   "display_name": ".venv",
   "language": "python",
   "name": "python3"
  },
  "language_info": {
   "codemirror_mode": {
    "name": "ipython",
    "version": 3
   },
   "file_extension": ".py",
   "mimetype": "text/x-python",
   "name": "python",
   "nbconvert_exporter": "python",
   "pygments_lexer": "ipython3",
   "version": "3.12.7"
  }
 },
 "nbformat": 4,
 "nbformat_minor": 5
}
